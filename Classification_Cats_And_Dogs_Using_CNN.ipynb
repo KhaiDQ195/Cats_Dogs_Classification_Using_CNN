{
 "cells": [
  {
   "cell_type": "code",
   "execution_count": 48,
   "id": "5b3c0652",
   "metadata": {},
   "outputs": [],
   "source": [
    "import os\n",
    "import pandas as pd\n",
    "import random\n",
    "import numpy as np\n",
    "import matplotlib.pyplot as plt\n",
    "import seaborn as sns\n",
    "import glob\n",
    "import tensorflow as tf\n",
    "from tensorflow.keras.models import Sequential\n",
    "from tensorflow.keras.layers import Conv2D, MaxPooling2D, Flatten, Dense\n",
    "from tensorflow.keras.layers import Input, Rescaling\n",
    "from tensorflow.keras.optimizers import RMSprop"
   ]
  },
  {
   "cell_type": "code",
   "execution_count": 36,
   "id": "b0de6d93",
   "metadata": {
    "execution": {
     "iopub.execute_input": "2025-07-19T13:32:29.897363Z",
     "iopub.status.busy": "2025-07-19T13:32:29.896488Z",
     "iopub.status.idle": "2025-07-19T13:32:29.900991Z",
     "shell.execute_reply": "2025-07-19T13:32:29.900427Z"
    },
    "papermill": {
     "duration": 0.056249,
     "end_time": "2025-07-19T13:32:29.901999",
     "exception": false,
     "start_time": "2025-07-19T13:32:29.845750",
     "status": "completed"
    },
    "tags": []
   },
   "outputs": [],
   "source": [
    "train_dir = 'data\\\\train'\n",
    "validation_dir = 'data\\\\test'\n",
    "\n",
    "train_cats_dir = train_dir + '\\cats'\n",
    "train_dogs_dir = train_dir + '\\dogs'\n",
    "\n",
    "validation_cats_dir = validation_dir + '\\cats'\n",
    "validation_dogs_dir = validation_dir + '\\dogs'"
   ]
  },
  {
   "cell_type": "code",
   "execution_count": 37,
   "id": "c82ded14",
   "metadata": {
    "execution": {
     "iopub.execute_input": "2025-07-19T13:32:29.998107Z",
     "iopub.status.busy": "2025-07-19T13:32:29.997255Z",
     "iopub.status.idle": "2025-07-19T13:32:30.002717Z",
     "shell.execute_reply": "2025-07-19T13:32:30.002058Z"
    },
    "papermill": {
     "duration": 0.055205,
     "end_time": "2025-07-19T13:32:30.003733",
     "exception": false,
     "start_time": "2025-07-19T13:32:29.948528",
     "status": "completed"
    },
    "tags": []
   },
   "outputs": [
    {
     "name": "stdout",
     "output_type": "stream",
     "text": [
      "Train directory: data\\train\n",
      "Validation directory: data\\test\n"
     ]
    }
   ],
   "source": [
    "print(\"Train directory:\", train_dir)\n",
    "print(\"Validation directory:\", validation_dir)"
   ]
  },
  {
   "cell_type": "code",
   "execution_count": 38,
   "id": "87920987",
   "metadata": {
    "execution": {
     "iopub.execute_input": "2025-07-19T13:32:30.103792Z",
     "iopub.status.busy": "2025-07-19T13:32:30.103517Z",
     "iopub.status.idle": "2025-07-19T13:32:30.113122Z",
     "shell.execute_reply": "2025-07-19T13:32:30.112358Z"
    },
    "papermill": {
     "duration": 0.06116,
     "end_time": "2025-07-19T13:32:30.114306",
     "exception": false,
     "start_time": "2025-07-19T13:32:30.053146",
     "status": "completed"
    },
    "tags": []
   },
   "outputs": [
    {
     "name": "stdout",
     "output_type": "stream",
     "text": [
      "5 files in cats subdir: ['cat.0.jpg', 'cat.1.jpg', 'cat.100.jpg', 'cat.1000.jpg', 'cat.10002.jpg']\n",
      "5 files in dogs subdir: ['dog.0.jpg', 'dog.1.jpg', 'dog.10.jpg', 'dog.1000.jpg', 'dog.10000.jpg']\n"
     ]
    }
   ],
   "source": [
    "train_cats_fnames = glob.glob(train_cats_dir + '\\*.jpg')\n",
    "train_dogs_fnames = glob.glob(train_dogs_dir + '\\*.jpg')\n",
    "\n",
    "print(\"5 files in cats subdir:\", [f.split('\\\\')[-1] for f in train_cats_fnames[:5]])\n",
    "print(\"5 files in dogs subdir:\", [f.split('\\\\')[-1] for f in train_dogs_fnames[:5]])"
   ]
  },
  {
   "cell_type": "code",
   "execution_count": 39,
   "id": "3a45485c",
   "metadata": {
    "execution": {
     "iopub.execute_input": "2025-07-19T13:32:30.209044Z",
     "iopub.status.busy": "2025-07-19T13:32:30.208769Z",
     "iopub.status.idle": "2025-07-19T13:32:30.220130Z",
     "shell.execute_reply": "2025-07-19T13:32:30.219343Z"
    },
    "papermill": {
     "duration": 0.059111,
     "end_time": "2025-07-19T13:32:30.221227",
     "exception": false,
     "start_time": "2025-07-19T13:32:30.162116",
     "status": "completed"
    },
    "tags": []
   },
   "outputs": [
    {
     "name": "stdout",
     "output_type": "stream",
     "text": [
      "Total training cat images: 10000\n",
      "Total training dog images: 10000\n",
      "Total validation cat images: 2500\n",
      "Total validation dog images: 2500\n"
     ]
    }
   ],
   "source": [
    "print('Total training cat images:', len(train_cats_fnames))\n",
    "print('Total training dog images:', len(train_dogs_fnames))\n",
    "\n",
    "validation_cats_fnames = glob.glob(validation_cats_dir + '\\*.jpg')\n",
    "validation_dogs_fnames = glob.glob(validation_dogs_dir + '\\*.jpg')\n",
    "print('Total validation cat images:', len(validation_cats_fnames))\n",
    "print('Total validation dog images:', len(validation_dogs_fnames))"
   ]
  },
  {
   "cell_type": "code",
   "execution_count": 40,
   "id": "0771539e",
   "metadata": {
    "execution": {
     "iopub.execute_input": "2025-07-19T13:32:30.317282Z",
     "iopub.status.busy": "2025-07-19T13:32:30.316990Z",
     "iopub.status.idle": "2025-07-19T13:32:32.728015Z",
     "shell.execute_reply": "2025-07-19T13:32:32.727450Z"
    },
    "papermill": {
     "duration": 2.461511,
     "end_time": "2025-07-19T13:32:32.729326",
     "exception": false,
     "start_time": "2025-07-19T13:32:30.267815",
     "status": "completed"
    },
    "tags": []
   },
   "outputs": [],
   "source": [
    "model=Sequential([\n",
    "    Input(shape=(150,150,3)),\n",
    "    Rescaling(scale=(1./255)),\n",
    "    Conv2D(16,(3,3),activation='relu'),\n",
    "    MaxPooling2D(2,2),\n",
    "    Conv2D(32,(3,3),activation='relu'),\n",
    "    MaxPooling2D(2,2),\n",
    "    Conv2D(64,(3,3),activation='relu'),\n",
    "    MaxPooling2D(2,2),\n",
    "    Flatten(),\n",
    "    Dense(512,activation='relu'),\n",
    "    Dense(1,activation='sigmoid')\n",
    "])"
   ]
  },
  {
   "cell_type": "code",
   "execution_count": 41,
   "id": "c93b4bdb",
   "metadata": {
    "execution": {
     "iopub.execute_input": "2025-07-19T13:32:32.822011Z",
     "iopub.status.busy": "2025-07-19T13:32:32.821485Z",
     "iopub.status.idle": "2025-07-19T13:32:32.839759Z",
     "shell.execute_reply": "2025-07-19T13:32:32.839204Z"
    },
    "papermill": {
     "duration": 0.065369,
     "end_time": "2025-07-19T13:32:32.840807",
     "exception": false,
     "start_time": "2025-07-19T13:32:32.775438",
     "status": "completed"
    },
    "tags": []
   },
   "outputs": [
    {
     "name": "stdout",
     "output_type": "stream",
     "text": [
      "Model: \"sequential_1\"\n",
      "_________________________________________________________________\n",
      " Layer (type)                Output Shape              Param #   \n",
      "=================================================================\n",
      " rescaling_1 (Rescaling)     (None, 150, 150, 3)       0         \n",
      "                                                                 \n",
      " conv2d_3 (Conv2D)           (None, 148, 148, 16)      448       \n",
      "                                                                 \n",
      " max_pooling2d_3 (MaxPoolin  (None, 74, 74, 16)        0         \n",
      " g2D)                                                            \n",
      "                                                                 \n",
      " conv2d_4 (Conv2D)           (None, 72, 72, 32)        4640      \n",
      "                                                                 \n",
      " max_pooling2d_4 (MaxPoolin  (None, 36, 36, 32)        0         \n",
      " g2D)                                                            \n",
      "                                                                 \n",
      " conv2d_5 (Conv2D)           (None, 34, 34, 64)        18496     \n",
      "                                                                 \n",
      " max_pooling2d_5 (MaxPoolin  (None, 17, 17, 64)        0         \n",
      " g2D)                                                            \n",
      "                                                                 \n",
      " flatten_1 (Flatten)         (None, 18496)             0         \n",
      "                                                                 \n",
      " dense_2 (Dense)             (None, 512)               9470464   \n",
      "                                                                 \n",
      " dense_3 (Dense)             (None, 1)                 513       \n",
      "                                                                 \n",
      "=================================================================\n",
      "Total params: 9494561 (36.22 MB)\n",
      "Trainable params: 9494561 (36.22 MB)\n",
      "Non-trainable params: 0 (0.00 Byte)\n",
      "_________________________________________________________________\n"
     ]
    }
   ],
   "source": [
    "model.summary()"
   ]
  },
  {
   "cell_type": "code",
   "execution_count": 42,
   "id": "19845355",
   "metadata": {
    "execution": {
     "iopub.execute_input": "2025-07-19T13:32:32.946474Z",
     "iopub.status.busy": "2025-07-19T13:32:32.946023Z",
     "iopub.status.idle": "2025-07-19T13:32:32.960647Z",
     "shell.execute_reply": "2025-07-19T13:32:32.960032Z"
    },
    "papermill": {
     "duration": 0.067818,
     "end_time": "2025-07-19T13:32:32.961744",
     "exception": false,
     "start_time": "2025-07-19T13:32:32.893926",
     "status": "completed"
    },
    "tags": []
   },
   "outputs": [],
   "source": [
    "model.compile(optimizer=RMSprop(learning_rate=0.001),\n",
    "             metrics=['accuracy'],\n",
    "              loss='binary_crossentropy'  \n",
    "             )"
   ]
  },
  {
   "cell_type": "code",
   "execution_count": 43,
   "id": "84fb4618",
   "metadata": {
    "execution": {
     "iopub.execute_input": "2025-07-19T13:32:33.068438Z",
     "iopub.status.busy": "2025-07-19T13:32:33.068113Z",
     "iopub.status.idle": "2025-07-19T13:32:44.234512Z",
     "shell.execute_reply": "2025-07-19T13:32:44.233700Z"
    },
    "papermill": {
     "duration": 11.221699,
     "end_time": "2025-07-19T13:32:44.236086",
     "exception": false,
     "start_time": "2025-07-19T13:32:33.014387",
     "status": "completed"
    },
    "tags": []
   },
   "outputs": [
    {
     "name": "stdout",
     "output_type": "stream",
     "text": [
      "Found 20000 files belonging to 2 classes.\n",
      "Found 5000 files belonging to 2 classes.\n"
     ]
    }
   ],
   "source": [
    "train_dataset=tf.keras.utils.image_dataset_from_directory(\n",
    "    train_dir,\n",
    "    image_size=(150,150),\n",
    "    batch_size=(20),\n",
    "    label_mode='binary'\n",
    ")\n",
    "\n",
    "validation_dataset = tf.keras.utils.image_dataset_from_directory(\n",
    "    validation_dir,\n",
    "    image_size=(150, 150),\n",
    "    batch_size=20,\n",
    "    label_mode='binary'\n",
    "    )"
   ]
  },
  {
   "cell_type": "code",
   "execution_count": 44,
   "id": "46ef2e07",
   "metadata": {
    "execution": {
     "iopub.execute_input": "2025-07-19T13:32:44.341761Z",
     "iopub.status.busy": "2025-07-19T13:32:44.341484Z",
     "iopub.status.idle": "2025-07-19T13:32:44.354969Z",
     "shell.execute_reply": "2025-07-19T13:32:44.354440Z"
    },
    "papermill": {
     "duration": 0.068272,
     "end_time": "2025-07-19T13:32:44.356110",
     "exception": false,
     "start_time": "2025-07-19T13:32:44.287838",
     "status": "completed"
    },
    "tags": []
   },
   "outputs": [],
   "source": [
    "SHUFFLE_BUFFER_SIZE=1000\n",
    "PREFETCH_BUFFER_SIZE=tf.data.AUTOTUNE\n",
    "\n",
    "train_dataset_final=train_dataset.cache().shuffle(SHUFFLE_BUFFER_SIZE).prefetch(PREFETCH_BUFFER_SIZE)\n",
    "validation_dataset_final=validation_dataset.cache().prefetch(PREFETCH_BUFFER_SIZE)"
   ]
  },
  {
   "cell_type": "code",
   "execution_count": 45,
   "id": "73f8a59f",
   "metadata": {
    "execution": {
     "iopub.execute_input": "2025-07-19T13:32:44.457601Z",
     "iopub.status.busy": "2025-07-19T13:32:44.457329Z",
     "iopub.status.idle": "2025-07-19T13:35:03.260130Z",
     "shell.execute_reply": "2025-07-19T13:35:03.259212Z"
    },
    "papermill": {
     "duration": 138.854698,
     "end_time": "2025-07-19T13:35:03.261720",
     "exception": false,
     "start_time": "2025-07-19T13:32:44.407022",
     "status": "completed"
    },
    "tags": []
   },
   "outputs": [
    {
     "name": "stdout",
     "output_type": "stream",
     "text": [
      "Epoch 1/15\n",
      "1000/1000 - 107s - loss: 0.5974 - accuracy: 0.6781 - val_loss: 0.4907 - val_accuracy: 0.7674 - 107s/epoch - 107ms/step\n",
      "Epoch 2/15\n",
      "1000/1000 - 100s - loss: 0.4728 - accuracy: 0.7734 - val_loss: 0.4654 - val_accuracy: 0.7818 - 100s/epoch - 100ms/step\n",
      "Epoch 3/15\n",
      "1000/1000 - 96s - loss: 0.4065 - accuracy: 0.8151 - val_loss: 0.4467 - val_accuracy: 0.7882 - 96s/epoch - 96ms/step\n",
      "Epoch 4/15\n",
      "1000/1000 - 96s - loss: 0.3457 - accuracy: 0.8484 - val_loss: 0.3954 - val_accuracy: 0.8274 - 96s/epoch - 96ms/step\n",
      "Epoch 5/15\n",
      "1000/1000 - 89s - loss: 0.2744 - accuracy: 0.8842 - val_loss: 0.3980 - val_accuracy: 0.8344 - 89s/epoch - 89ms/step\n",
      "Epoch 6/15\n",
      "1000/1000 - 89s - loss: 0.1979 - accuracy: 0.9207 - val_loss: 0.4645 - val_accuracy: 0.8232 - 89s/epoch - 89ms/step\n",
      "Epoch 7/15\n",
      "1000/1000 - 99s - loss: 0.1217 - accuracy: 0.9548 - val_loss: 0.5439 - val_accuracy: 0.8408 - 99s/epoch - 99ms/step\n",
      "Epoch 8/15\n",
      "1000/1000 - 97s - loss: 0.0661 - accuracy: 0.9764 - val_loss: 0.8163 - val_accuracy: 0.8308 - 97s/epoch - 97ms/step\n",
      "Epoch 9/15\n",
      "1000/1000 - 100s - loss: 0.0482 - accuracy: 0.9847 - val_loss: 0.8705 - val_accuracy: 0.8352 - 100s/epoch - 100ms/step\n",
      "Epoch 10/15\n",
      "1000/1000 - 98s - loss: 0.0300 - accuracy: 0.9901 - val_loss: 0.9858 - val_accuracy: 0.8384 - 98s/epoch - 98ms/step\n",
      "Epoch 11/15\n",
      "1000/1000 - 100s - loss: 0.0216 - accuracy: 0.9928 - val_loss: 1.3126 - val_accuracy: 0.8388 - 100s/epoch - 100ms/step\n",
      "Epoch 12/15\n",
      "1000/1000 - 101s - loss: 0.0280 - accuracy: 0.9923 - val_loss: 1.6557 - val_accuracy: 0.8198 - 101s/epoch - 101ms/step\n",
      "Epoch 13/15\n",
      "1000/1000 - 102s - loss: 0.0235 - accuracy: 0.9929 - val_loss: 1.4236 - val_accuracy: 0.8276 - 102s/epoch - 102ms/step\n",
      "Epoch 14/15\n",
      "1000/1000 - 101s - loss: 0.0224 - accuracy: 0.9930 - val_loss: 1.5541 - val_accuracy: 0.8300 - 101s/epoch - 101ms/step\n",
      "Epoch 15/15\n",
      "1000/1000 - 101s - loss: 0.0179 - accuracy: 0.9949 - val_loss: 1.8269 - val_accuracy: 0.8358 - 101s/epoch - 101ms/step\n"
     ]
    }
   ],
   "source": [
    "history=model.fit(\n",
    "    train_dataset_final,\n",
    "    epochs=15,\n",
    "    validation_data=validation_dataset_final,\n",
    "    verbose=2\n",
    ")"
   ]
  },
  {
   "cell_type": "code",
   "execution_count": 50,
   "id": "a487452f",
   "metadata": {},
   "outputs": [
    {
     "name": "stderr",
     "output_type": "stream",
     "text": [
      "d:\\Study\\SU25\\Project\\Cats_Dogs_Classification\\tf_env\\Lib\\site-packages\\keras\\src\\engine\\training.py:3000: UserWarning: You are saving your model as an HDF5 file via `model.save()`. This file format is considered legacy. We recommend using instead the native Keras format, e.g. `model.save('my_model.keras')`.\n",
      "  saving_api.save_model(\n"
     ]
    }
   ],
   "source": [
    "model.save('model.h5')"
   ]
  },
  {
   "cell_type": "code",
   "execution_count": 46,
   "id": "9b81abce",
   "metadata": {
    "execution": {
     "iopub.execute_input": "2025-07-19T13:35:03.368781Z",
     "iopub.status.busy": "2025-07-19T13:35:03.368507Z",
     "iopub.status.idle": "2025-07-19T13:35:03.380320Z",
     "shell.execute_reply": "2025-07-19T13:35:03.379688Z"
    },
    "papermill": {
     "duration": 0.066003,
     "end_time": "2025-07-19T13:35:03.381358",
     "exception": false,
     "start_time": "2025-07-19T13:35:03.315355",
     "status": "completed"
    },
    "tags": []
   },
   "outputs": [],
   "source": [
    "def predict_image(image_path):\n",
    "    image = tf.keras.utils.load_img(image_path, target_size=(150, 150))\n",
    "    image = tf.keras.utils.img_to_array(image)\n",
    "    image = np.expand_dims(image, axis=0)\n",
    "    prediction = model.predict(image, verbose=0)[0][0]\n",
    "    if prediction > 0.5:\n",
    "        print(image_path + \" is a dog\")\n",
    "    else:\n",
    "        print(image_path + \" is a cat\")"
   ]
  },
  {
   "cell_type": "code",
   "execution_count": 51,
   "id": "55f2dcce",
   "metadata": {
    "execution": {
     "iopub.execute_input": "2025-07-19T13:35:06.057648Z",
     "iopub.status.busy": "2025-07-19T13:35:06.056847Z",
     "iopub.status.idle": "2025-07-19T13:35:06.408468Z",
     "shell.execute_reply": "2025-07-19T13:35:06.407722Z"
    },
    "papermill": {
     "duration": 0.431855,
     "end_time": "2025-07-19T13:35:06.410037",
     "exception": false,
     "start_time": "2025-07-19T13:35:05.978182",
     "status": "completed"
    },
    "tags": []
   },
   "outputs": [
    {
     "data": {
      "image/png": "[encoded data removed]",
      "text/plain": [
       "<Figure size 1200x600 with 2 Axes>"
      ]
     },
     "metadata": {},
     "output_type": "display_data"
    }
   ],
   "source": [
    "def plot_loss_acc(history):\n",
    "    '''Plots the training and validation loss and accuracy from a history object'''\n",
    "    acc = history.history['accuracy']\n",
    "    val_acc = history.history['val_accuracy']\n",
    "    loss = history.history['loss']\n",
    "    val_loss = history.history['val_loss']\n",
    "    \n",
    "    epochs = range(len(acc))\n",
    "    \n",
    "    fig, ax = plt.subplots(1,2, figsize=(12, 6))\n",
    "    ax[0].plot(epochs, acc, 'bo', label='Training accuracy')\n",
    "    ax[0].plot(epochs, val_acc, 'b', label='Validation accuracy')\n",
    "    ax[0].set_title('Training and validation accuracy')\n",
    "    ax[0].set_xlabel('epochs')\n",
    "    ax[0].set_ylabel('accuracy')\n",
    "    ax[0].legend()\n",
    "    \n",
    "    ax[1].plot(epochs, loss, 'bo', label='Training Loss')\n",
    "    ax[1].plot(epochs, val_loss, 'b', label='Validation Loss')\n",
    "    ax[1].set_title('Training and validation loss')\n",
    "    ax[1].set_xlabel('epochs')\n",
    "    ax[1].set_ylabel('loss')\n",
    "    ax[1].legend()\n",
    "    \n",
    "    plt.show()\n",
    "\n",
    "plot_loss_acc(history)"
   ]
  }
 ],
 "metadata": {
  "kaggle": {
   "accelerator": "gpu",
   "dataSources": [
    {
     "datasetId": 84954,
     "sourceId": 196452,
     "sourceType": "datasetVersion"
    }
   ],
   "dockerImageVersionId": 31090,
   "isGpuEnabled": true,
   "isInternetEnabled": true,
   "language": "python",
   "sourceType": "notebook"
  },
  "kernelspec": {
   "display_name": "Python (TensorFlow)",
   "language": "python",
   "name": "tf_env"
  },
  "language_info": {
   "codemirror_mode": {
    "name": "ipython",
    "version": 3
   },
   "file_extension": ".py",
   "mimetype": "text/x-python",
   "name": "python",
   "nbconvert_exporter": "python",
   "pygments_lexer": "ipython3",
   "version": "3.11.9"
  },
  "papermill": {
   "default_parameters": {},
   "duration": 279.932893,
   "end_time": "2025-07-19T13:35:11.552599",
   "environment_variables": {},
   "exception": null,
   "input_path": "__notebook__.ipynb",
   "output_path": "__notebook__.ipynb",
   "parameters": {},
   "start_time": "2025-07-19T13:30:31.619706",
   "version": "2.6.0"
  },
  "widgets": {
   "application/vnd.jupyter.widget-state+json": {
    "state": {
     "20f191922f6a45919eaf9883a8fbd155": {
      "model_module": "@jupyter-widgets/output",
      "model_module_version": "1.0.0",
      "model_name": "OutputModel",
      "state": {
       "_dom_classes": [],
       "_model_module": "@jupyter-widgets/output",
       "_model_module_version": "1.0.0",
       "_model_name": "OutputModel",
       "_view_count": null,
       "_view_module": "@jupyter-widgets/output",
       "_view_module_version": "1.0.0",
       "_view_name": "OutputView",
       "layout": "IPY_MODEL_f8779873e76a46718721cf580ca64042",
       "msg_id": "",
       "outputs": [],
       "tabbable": null,
       "tooltip": null
      }
     },
     "9fa14e26f00a4d5babb2fd086d0c2e9b": {
      "model_module": "@jupyter-widgets/controls",
      "model_module_version": "2.0.0",
      "model_name": "FileUploadModel",
      "state": {
       "_dom_classes": [],
       "_model_module": "@jupyter-widgets/controls",
       "_model_module_version": "2.0.0",
       "_model_name": "FileUploadModel",
       "_view_count": null,
       "_view_module": "@jupyter-widgets/controls",
       "_view_module_version": "2.0.0",
       "_view_name": "FileUploadView",
       "accept": "image/*",
       "button_style": "",
       "description": "Upload",
       "description_allow_html": false,
       "disabled": false,
       "error": "",
       "icon": "upload",
       "layout": "IPY_MODEL_c5d9620f4d4946fe9bb9a41be5dcbb31",
       "multiple": true,
       "style": "IPY_MODEL_e0b3e70bed144a42ada26d296b04f499",
       "tabbable": null,
       "tooltip": null,
       "value": []
      }
     },
     "c5d9620f4d4946fe9bb9a41be5dcbb31": {
      "model_module": "@jupyter-widgets/base",
      "model_module_version": "2.0.0",
      "model_name": "LayoutModel",
      "state": {
       "_model_module": "@jupyter-widgets/base",
       "_model_module_version": "2.0.0",
       "_model_name": "LayoutModel",
       "_view_count": null,
       "_view_module": "@jupyter-widgets/base",
       "_view_module_version": "2.0.0",
       "_view_name": "LayoutView",
       "align_content": null,
       "align_items": null,
       "align_self": null,
       "border_bottom": null,
       "border_left": null,
       "border_right": null,
       "border_top": null,
       "bottom": null,
       "display": null,
       "flex": null,
       "flex_flow": null,
       "grid_area": null,
       "grid_auto_columns": null,
       "grid_auto_flow": null,
       "grid_auto_rows": null,
       "grid_column": null,
       "grid_gap": null,
       "grid_row": null,
       "grid_template_areas": null,
       "grid_template_columns": null,
       "grid_template_rows": null,
       "height": null,
       "justify_content": null,
       "justify_items": null,
       "left": null,
       "margin": null,
       "max_height": null,
       "max_width": null,
       "min_height": null,
       "min_width": null,
       "object_fit": null,
       "object_position": null,
       "order": null,
       "overflow": null,
       "padding": null,
       "right": null,
       "top": null,
       "visibility": null,
       "width": null
      }
     },
     "e0b3e70bed144a42ada26d296b04f499": {
      "model_module": "@jupyter-widgets/controls",
      "model_module_version": "2.0.0",
      "model_name": "ButtonStyleModel",
      "state": {
       "_model_module": "@jupyter-widgets/controls",
       "_model_module_version": "2.0.0",
       "_model_name": "ButtonStyleModel",
       "_view_count": null,
       "_view_module": "@jupyter-widgets/base",
       "_view_module_version": "2.0.0",
       "_view_name": "StyleView",
       "button_color": null,
       "font_family": null,
       "font_size": null,
       "font_style": null,
       "font_variant": null,
       "font_weight": null,
       "text_color": null,
       "text_decoration": null
      }
     },
     "f8779873e76a46718721cf580ca64042": {
      "model_module": "@jupyter-widgets/base",
      "model_module_version": "2.0.0",
      "model_name": "LayoutModel",
      "state": {
       "_model_module": "@jupyter-widgets/base",
       "_model_module_version": "2.0.0",
       "_model_name": "LayoutModel",
       "_view_count": null,
       "_view_module": "@jupyter-widgets/base",
       "_view_module_version": "2.0.0",
       "_view_name": "LayoutView",
       "align_content": null,
       "align_items": null,
       "align_self": null,
       "border_bottom": null,
       "border_left": null,
       "border_right": null,
       "border_top": null,
       "bottom": null,
       "display": null,
       "flex": null,
       "flex_flow": null,
       "grid_area": null,
       "grid_auto_columns": null,
       "grid_auto_flow": null,
       "grid_auto_rows": null,
       "grid_column": null,
       "grid_gap": null,
       "grid_row": null,
       "grid_template_areas": null,
       "grid_template_columns": null,
       "grid_template_rows": null,
       "height": null,
       "justify_content": null,
       "justify_items": null,
       "left": null,
       "margin": null,
       "max_height": null,
       "max_width": null,
       "min_height": null,
       "min_width": null,
       "object_fit": null,
       "object_position": null,
       "order": null,
       "overflow": null,
       "padding": null,
       "right": null,
       "top": null,
       "visibility": null,
       "width": null
      }
     }
    },
    "version_major": 2,
    "version_minor": 0
   }
  }
 },
 "nbformat": 4,
 "nbformat_minor": 5
}
